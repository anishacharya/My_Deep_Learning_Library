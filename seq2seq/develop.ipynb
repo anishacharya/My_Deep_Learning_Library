{
 "cells": [
  {
   "cell_type": "code",
   "execution_count": 9,
   "metadata": {
    "collapsed": false
   },
   "outputs": [],
   "source": [
    "from theano import function, config, shared, tensor\n",
    "import numpy as np\n",
    "import theano\n",
    "import time\n",
    "#from svMLP/MLP import MLP\n",
    "#from svdMLP/svdMLP import svdMLP\n",
    "#from ResNet import ResNet\n",
    "#from svdResNet import svdResNet\n",
    "\n",
    "import load as read_data\n",
    "import sys\n",
    "\n",
    "import custom_config as custom_config"
   ]
  },
  {
   "cell_type": "code",
   "execution_count": 6,
   "metadata": {
    "collapsed": false
   },
   "outputs": [],
   "source": [
    "datasets_dir = custom_config.datasets_dir"
   ]
  },
  {
   "cell_type": "code",
   "execution_count": 10,
   "metadata": {
    "collapsed": false
   },
   "outputs": [
    {
     "name": "stdout",
     "output_type": "stream",
     "text": [
      "/Users/achanish/Dropbox/My_Deep_Learning_Library/seq2seq/data/mnist/\n",
      "Training data:  (1000, 784) (1000,)\n",
      "Test data:  (10000, 784) (10000,)\n"
     ]
    }
   ],
   "source": [
    "trX, teX, trY, teY = read_data.mnist(onehot=False)\n",
    "\n",
    "trX=trX[0:1000,]\n",
    "trY=trY[0:1000]\n",
    "\n",
    "print \"Training data: \", trX.shape, trY.shape\n",
    "print \"Test data: \", teX.shape, teY.shape"
   ]
  },
  {
   "cell_type": "code",
   "execution_count": null,
   "metadata": {
    "collapsed": true
   },
   "outputs": [],
   "source": []
  },
  {
   "cell_type": "code",
   "execution_count": null,
   "metadata": {
    "collapsed": true
   },
   "outputs": [],
   "source": []
  }
 ],
 "metadata": {
  "anaconda-cloud": {},
  "kernelspec": {
   "display_name": "Python [conda root]",
   "language": "python",
   "name": "conda-root-py"
  },
  "language_info": {
   "codemirror_mode": {
    "name": "ipython",
    "version": 2
   },
   "file_extension": ".py",
   "mimetype": "text/x-python",
   "name": "python",
   "nbconvert_exporter": "python",
   "pygments_lexer": "ipython2",
   "version": "2.7.12"
  }
 },
 "nbformat": 4,
 "nbformat_minor": 1
}
