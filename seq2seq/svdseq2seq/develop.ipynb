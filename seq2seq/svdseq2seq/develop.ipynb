{
 "cells": [
  {
   "cell_type": "code",
   "execution_count": 1,
   "metadata": {
    "collapsed": false
   },
   "outputs": [],
   "source": [
    "from theano import function, config, shared, tensor\n",
    "import numpy as np\n",
    "import theano\n",
    "import time\n",
    "#from svMLP/MLP import MLP\n",
    "#from svdMLP/svdMLP import svdMLP\n",
    "#from ResNet import ResNet\n",
    "#from svdResNet import svdResNet\n",
    "import load as read_data\n",
    "import sys\n",
    "import custom_config as custom_config\n",
    "import activations as activations"
   ]
  },
  {
   "cell_type": "code",
   "execution_count": 2,
   "metadata": {
    "collapsed": false
   },
   "outputs": [
    {
     "name": "stdout",
     "output_type": "stream",
     "text": [
      "/Users/achanish/Dropbox/My_Deep_Learning_Library/seq2seq/svdseq2seq/../data/mnist/\n",
      "Training data:  (1000, 784) (1000,)\n",
      "Test data:  (100, 784) (100,)\n"
     ]
    }
   ],
   "source": [
    "## Load Data ##\n",
    "datasets_dir = custom_config.datasets_dir\n",
    "\n",
    "trX, teX, trY, teY = read_data.mnist(onehot=False)\n",
    "\n",
    "trX=trX[0:1000,]\n",
    "trY=trY[0:1000]\n",
    "teX=teX[0:100,]\n",
    "teY=teY[0:100]\n",
    "\n",
    "print \"Training data: \", trX.shape, trY.shape\n",
    "print \"Test data: \", teX.shape, teY.shape"
   ]
  },
  {
   "cell_type": "code",
   "execution_count": null,
   "metadata": {
    "collapsed": false
   },
   "outputs": [],
   "source": []
  },
  {
   "cell_type": "code",
   "execution_count": null,
   "metadata": {
    "collapsed": true
   },
   "outputs": [],
   "source": []
  },
  {
   "cell_type": "code",
   "execution_count": null,
   "metadata": {
    "collapsed": true
   },
   "outputs": [],
   "source": []
  }
 ],
 "metadata": {
  "anaconda-cloud": {},
  "kernelspec": {
   "display_name": "Python [conda root]",
   "language": "python",
   "name": "conda-root-py"
  },
  "language_info": {
   "codemirror_mode": {
    "name": "ipython",
    "version": 2
   },
   "file_extension": ".py",
   "mimetype": "text/x-python",
   "name": "python",
   "nbconvert_exporter": "python",
   "pygments_lexer": "ipython2",
   "version": "2.7.12"
  }
 },
 "nbformat": 4,
 "nbformat_minor": 1
}
